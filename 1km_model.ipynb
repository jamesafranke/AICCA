{
 "cells": [
  {
   "cell_type": "code",
   "execution_count": null,
   "metadata": {},
   "outputs": [],
   "source": [
    "%%capture\n",
    "!pip install eccodes\n",
    "!pip install ecmwflibs\n",
    "!pip install cfgrib\n",
    "!python -m cfgrib selfcheck\n",
    "!pip install xarray\n",
    "import cfgrib, xarray as xr, numpy as np, pandas as pd\n",
    "import pyarrow.feather as feather\n",
    "\n",
    "!pip install datashader\n",
    "import datashader as das\n",
    "\n",
    "!pip install opencv-python s3fs netCDF4\n",
    "import netCDF4, requests, s3fs, fnmatch, cv2"
   ]
  },
  {
   "cell_type": "markdown",
   "metadata": {},
   "source": [
    "# toa radiation"
   ]
  },
  {
   "cell_type": "code",
   "execution_count": null,
   "metadata": {},
   "outputs": [],
   "source": [
    "path = 'gpfs/alpine/cli147/proj-shared/scratch/data/h3f7-ndjf/global/O8000/sfc-dgg/tsr/tsr_178_h3f7-ndjf_000900.sfc-dgg.O8000.global.grib'\n",
    "ds = xr.open_dataset(path, engine='cfgrib', indexpath='')\n",
    "df = pd.DataFrame({'lat':ds.latitude.values, 'lon':ds.longitude.values, 'tsr':ds.tsr.values})\n",
    "df = df[df.lon.between(360-123,360-68)]\n",
    "df = df[df.lat.between(-50,5)]\n",
    "df.reset_index().to_feather(f'test_tsr_2018-11-01T15.arrow')\n",
    "\n",
    "path = 'gpfs/alpine/cli147/proj-shared/scratch/data/h3f7-ndjf/global/O8000/sfc-dgg/tisr/tisr_212_h3f7-ndjf_000900.sfc-dgg.O8000.global.grib'\n",
    "ds = xr.open_dataset(path, engine='cfgrib', indexpath='')\n",
    "df = pd.DataFrame({'lat':ds.latitude.values, 'lon':ds.longitude.values, 'tisr':ds.tisr.values})\n",
    "df = df[df.lon.between(360-123,360-68)]\n",
    "df = df[df.lat.between(-50,5)]\n",
    "df.reset_index().to_feather(f'test_tisr_2018-11-01T15.arrow')"
   ]
  },
  {
   "cell_type": "markdown",
   "metadata": {},
   "source": [
    "# GOES BAND AGGREGATIONS"
   ]
  },
  {
   "cell_type": "code",
   "execution_count": null,
   "metadata": {},
   "outputs": [],
   "source": [
    "### goes funtions for lat lon and xy slicing ###\n",
    "def get_lat_lon(ds):\n",
    "    x,y = np.meshgrid(ds.x,ds.y)\n",
    "    goes_imager_projection = ds.goes_imager_projection\n",
    "    r_eq = goes_imager_projection.attrs[\"semi_major_axis\"]\n",
    "    r_pol = goes_imager_projection.attrs[\"semi_minor_axis\"]\n",
    "    l_0 = goes_imager_projection.attrs[\"longitude_of_projection_origin\"] * (np.pi/180)\n",
    "    h_sat = goes_imager_projection.attrs[\"perspective_point_height\"]\n",
    "    H = r_eq + h_sat\n",
    "    \n",
    "    a = np.sin(x)**2 + (np.cos(x)**2 * (np.cos(y)**2 + (r_eq**2 / r_pol**2) * np.sin(y)**2))\n",
    "    b = -2 * H * np.cos(x) * np.cos(y)\n",
    "    c = H**2 - r_eq**2\n",
    "    r_s = (-b - np.sqrt(b**2 - 4*a*c))/(2*a)\n",
    "    s_x = r_s * np.cos(x) * np.cos(y)\n",
    "    s_y = -r_s * np.sin(x)\n",
    "    s_z = r_s * np.cos(x) * np.sin(y)\n",
    "    \n",
    "    lat = np.arctan((r_eq**2 / r_pol**2) * (s_z / np.sqrt((H-s_x)**2 +s_y**2))) * (180/np.pi)\n",
    "    lon = (l_0 - np.arctan(s_y / (H-s_x))) * (180/np.pi)\n",
    "    \n",
    "    ds = ds.assign_coords({\"lat\":([\"y\",\"x\"],lat),\"lon\":([\"y\",\"x\"],lon)})\n",
    "    ds.lat.attrs[\"units\"] = \"degrees_north\"\n",
    "    ds.lon.attrs[\"units\"] = \"degrees_east\"\n",
    "    return ds\n",
    "    \n",
    "dates = pd.date_range('2018-11-01','2018-11-01')\n",
    "date = dates[0]\n",
    "hour = 18\n",
    "datetime = date + pd.Timedelta(hour, 'Hours')\n",
    "fs = s3fs.S3FileSystem( anon = True )\n",
    "\n",
    "files = np.array( fs.ls(f'noaa-goes16/ABI-L1b-RadF/{date.year}/{date.dayofyear:03.0f}/{hour:02.0f}/') ) # goes16 is from 2017-059, goes17 is 2018-240, goes18 is 2022-210 \n",
    "out = np.zeros((10000,10000), dtype=np.float32)\n",
    "for bi, band in enumerate(range(1,8)):\n",
    "    bandfiles = fnmatch.filter(files, f'*C0{band}*')\n",
    "    key = bandfiles[0][12:]\n",
    "    resp = requests.get( f'https://noaa-goes16.s3.amazonaws.com/{key}' )\n",
    "    file_name = key.split('/')[-1].split('.')[0]\n",
    "    store = netCDF4.Dataset(file_name, memory = resp.content)\n",
    "    ds = xr.open_dataset( xr.backends.NetCDF4DataStore(store) )\n",
    "    if band == 2: ds = ds.coarsen(x=2,y=2, boundary='trim').mean()\n",
    "    else: pass\n",
    "    if band == 1: \n",
    "        ds = get_lat_lon(ds)\n",
    "        lat = cv2.resize(ds.lat.values, (10000,10000))\n",
    "        lon = cv2.resize(ds.lon.values, (10000,10000))\n",
    "    else: pass\n",
    "    out += cv2.resize(ds.Rad.values, (10000,10000))\n",
    "\n",
    "df = pd.DataFrame({'lat':lat.ravel(), 'lon':lon.ravel(), 'rad':out.ravel()})\n",
    "df = df[df.lon.between(-123,-68)]\n",
    "df = df[df.lat.between(-50,5)]\n",
    "df.to_parquet(f'GOES_{hour}.parquet', engine='auto', compression='snappy', index=None)"
   ]
  },
  {
   "cell_type": "markdown",
   "metadata": {},
   "source": [
    "# to get cloud liquid water path "
   ]
  },
  {
   "cell_type": "code",
   "execution_count": null,
   "metadata": {},
   "outputs": [],
   "source": [
    "ts = '001980'\n",
    "path = f'/gpfs/alpine/cli147/proj-shared/scratch/data/h3f7-ndjf/global/O8000/ml-dgg/clwc/clwc_246_h3f7-ndjf_{ts}.ml-dgg.O8000.global.grib'\n",
    "ds1 = xr.open_dataset(path, engine='cfgrib', indexpath='')\n",
    "\n",
    "levels = pd.read_csv('137_levels_table.csv')\n",
    "levels.Density = pd.to_numeric(levels.Density, errors='coerce')\n",
    "levels.Geometric_Altitude = pd.to_numeric(levels.Geometric_Altitude, errors='coerce')\n",
    "height = np.pad(levels.Geometric_Altitude.values, (0, 1), 'constant')\n",
    "\n",
    "out = np.zeros(256288000, dtype=np.float32)\n",
    "for i in range(75,138):\n",
    "    print(i)\n",
    "    h1 = (height[i-1] + height[i]) / 2\n",
    "    h2 = (height[i] + height[i+1]) / 2\n",
    "    out += ds1.sel(hybrid=i, method='nearest').clwc.values * levels.Density[i] * (h1-h2)\n",
    "\n",
    "df = pd.DataFrame({'lat':ds1.latitude.values, 'lon':ds1.longitude.values, 'clwp':out})\n",
    "df = df[df.lon.between(360-123,360-68)]\n",
    "df = df[df.lat.between(-50,5)]\n",
    "df.reset_index().to_feather(f'all_clwc_{str(ds1.time.values)[:14]}.arrow')"
   ]
  },
  {
   "cell_type": "code",
   "execution_count": null,
   "metadata": {},
   "outputs": [],
   "source": [
    "ts = '001980'\n",
    "path1 = f'/gpfs/alpine/cli147/proj-shared/scratch/data/h3f7-ndjf/global/O8000/ml-dgg/clwc/clwc_246_h3f7-ndjf_{ts}.ml-dgg.O8000.global.grib'\n",
    "path2 = f'/gpfs/alpine/cli147/proj-shared/scratch/data/h3f7-ndjf/global/O8000/ml-dgg/t/t_130_h3f7-ndjf_{ts}.ml-dgg.O8000.global.grib'\n",
    "path3 = f'/gpfs/alpine/cli147/proj-shared/scratch/data/h3f7-ndjf/global/O8000/ml-dgg/pres/pres_54_h3f7-ndjf_{ts}.ml-dgg.O8000.global.grib'\n",
    "ds1 = xr.open_dataset(path1, engine='cfgrib', indexpath='')\n",
    "print('done')\n",
    "ds2 = xr.open_dataset(path2, engine='cfgrib', indexpath='')\n",
    "print('done')\n",
    "ds3 = xr.open_dataset(path3, engine='cfgrib', indexpath='')\n",
    "print('done')\n",
    "\n",
    "levels = pd.read_csv('137_levels_table.csv')\n",
    "levels.Density = pd.to_numeric(levels.Density, errors='coerce')\n",
    "levels.Geometric_Altitude = pd.to_numeric(levels.Geometric_Altitude, errors='coerce')\n",
    "height = levels.Geometric_Altitude.values\n",
    "\n",
    "out = np.zeros(256288000, dtype=np.float32)\n",
    "for i in range(75,138):\n",
    "    print(i)\n",
    "    h1 = (height[i-1] + height[i]) / 2\n",
    "    h2 = (height[i] + height[i+1]) / 2\n",
    "    out += ds1.sel(hybrid=i, method='nearest').clwc.values * levels.Density[i] * (h1-h2)\n",
    "\n",
    "df = pd.DataFrame({'lat':ds1.latitude.values, 'lon':ds1.longitude.values, 'clwp':out})\n",
    "df = df[df.lon.between(360-123,360-68)]\n",
    "df = df[df.lat.between(-50,5)]\n",
    "df.reset_index().to_feather(f'all_clwc_{str(ds1.time.values)[:14]}.arrow')"
   ]
  },
  {
   "cell_type": "code",
   "execution_count": null,
   "metadata": {},
   "outputs": [],
   "source": [
    "import pyarrow as pa, pyarrow.parquet as pq\n",
    "for i in range(75,138):\n",
    "    print(i)\n",
    "    temp = ds1.sel(hybrid=i, method='nearest').clwc.values * ds3.sel(hybrid=i, method='nearest').pres.values  / (287 * ds2.sel(hybrid=i, method='nearest').t.values)\n",
    "    table = pa.Table.from_arrays([ temp ], names=['clwp'])\n",
    "    pq.write_table(table, f'{i:03}_clwc.parquet')\n",
    "    \n",
    "out = np.zeros(256288000, dtype=np.float32)\n",
    "for i in range(75,138):\n",
    "    print(i)\n",
    "    temp = pq.read_table(f'{i:03}_clwc.parquet')\n",
    "    out += np.array(temp['clwp'])\n",
    "\n",
    "df = pd.DataFrame({'lat':ds1.latitude.values, 'lon':ds1.longitude.values, 'clwp':out})\n",
    "df = df[df.lon.between(360-123,360-68)]\n",
    "df = df[df.lat.between(-50,5)]\n",
    "df.reset_index().to_feather(f'all_clwc_{str(ds1.time.values)[:10]}.arrow')"
   ]
  },
  {
   "cell_type": "code",
   "execution_count": null,
   "metadata": {},
   "outputs": [],
   "source": [
    "table = pa.Table.from_arrays([ ds1.latitude.values, ds1.longitude.values, out ], names=['lat','lon','clwp'])\n",
    "pq.write_table(table, f'all_clwc.parquet')"
   ]
  }
 ],
 "metadata": {
  "kernelspec": {
   "display_name": "Julia 1.8.2",
   "language": "julia",
   "name": "julia-1.8"
  },
  "language_info": {
   "file_extension": ".jl",
   "mimetype": "application/julia",
   "name": "julia",
   "version": "1.8.2"
  },
  "orig_nbformat": 4
 },
 "nbformat": 4,
 "nbformat_minor": 2
}
